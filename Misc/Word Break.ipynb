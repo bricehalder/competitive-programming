{
 "cells": [
  {
   "cell_type": "code",
   "execution_count": 157,
   "metadata": {},
   "outputs": [],
   "source": [
    "s = \"catsanddogs\"\n",
    "wordDict = [\"cat\", \"cats\", \"and\", \"sand\", \"dog\"]"
   ]
  },
  {
   "cell_type": "code",
   "execution_count": 158,
   "metadata": {},
   "outputs": [],
   "source": [
    "def wordBreak(s, wordDict):\n",
    "    \"\"\"\n",
    "    :type s: str\n",
    "    :type wordDict: List[str]\n",
    "    :rtype: List[str]\n",
    "    \"\"\"\n",
    "    done = 0\n",
    "    wordList = []\n",
    "    phraseList = []\n",
    "    while(done == 0):\n",
    "        currentWordList = []\n",
    "        currentWord = \"\"\n",
    "        newPhrase = 0\n",
    "        for i in range(len(s)):\n",
    "            currentWord += s[i]\n",
    "            if currentWord in wordDict:\n",
    "                if currentWord not in wordList:\n",
    "                    newPhrase = 1\n",
    "                if newPhrase == 1:\n",
    "                    wordList.append(currentWord)\n",
    "                    currentWordList.append(currentWord)\n",
    "                    currentWord = \"\"\n",
    "        if len(currentWordList) != 0:\n",
    "            phrase = \"\"\n",
    "            for i in range(len(currentWordList)):\n",
    "                if i < len(currentWordList) - 1:\n",
    "                    phrase += currentWordList[i] + \" \"\n",
    "                else:\n",
    "                    phrase += currentWordList[i]\n",
    "            phraseList.append(phrase)\n",
    "        else:\n",
    "            done = 1\n",
    "    return phraseList"
   ]
  },
  {
   "cell_type": "code",
   "execution_count": 159,
   "metadata": {},
   "outputs": [
    {
     "data": {
      "text/plain": [
       "['cat sand dog', 'cats and dog']"
      ]
     },
     "execution_count": 159,
     "metadata": {},
     "output_type": "execute_result"
    }
   ],
   "source": [
    "wordBreak(s,wordDict)"
   ]
  },
  {
   "cell_type": "code",
   "execution_count": null,
   "metadata": {},
   "outputs": [],
   "source": []
  },
  {
   "cell_type": "code",
   "execution_count": null,
   "metadata": {},
   "outputs": [],
   "source": []
  }
 ],
 "metadata": {
  "kernelspec": {
   "display_name": "Python 3",
   "language": "python",
   "name": "python3"
  },
  "language_info": {
   "codemirror_mode": {
    "name": "ipython",
    "version": 3
   },
   "file_extension": ".py",
   "mimetype": "text/x-python",
   "name": "python",
   "nbconvert_exporter": "python",
   "pygments_lexer": "ipython3",
   "version": "3.6.4"
  }
 },
 "nbformat": 4,
 "nbformat_minor": 2
}
